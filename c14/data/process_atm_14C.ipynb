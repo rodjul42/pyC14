{
 "cells": [
  {
   "cell_type": "code",
   "execution_count": null,
   "metadata": {},
   "outputs": [],
   "source": [
    "import matplotlib.pyplot as plt\n",
    "%matplotlib inline\n",
    "import numpy as np\n",
    "import pandas as pd\n",
    "import scipy as sp\n",
    "import scipy.optimize\n",
    "import seaborn as sns\n",
    "sns.set_style('darkgrid')"
   ]
  },
  {
   "cell_type": "markdown",
   "metadata": {},
   "source": [
    "# Read data"
   ]
  },
  {
   "cell_type": "code",
   "execution_count": null,
   "metadata": {},
   "outputs": [],
   "source": [
    "c14_atm_data = pd.read_excel('./levin data set  1959-2018 raw.xlsx',\n",
    "                             usecols=[2, 3],\n",
    "                             header=None,\n",
    "                             names=['year', 'd14C']\n",
    "                             ).sort_values('year')"
   ]
  },
  {
   "cell_type": "code",
   "execution_count": null,
   "metadata": {},
   "outputs": [],
   "source": [
    "c14_atm_data['year'].is_monotonic"
   ]
  },
  {
   "cell_type": "code",
   "execution_count": null,
   "metadata": {},
   "outputs": [],
   "source": [
    "fig = plt.figure()\n",
    "plt.plot(c14_atm_data['year'], c14_atm_data['d14C'])\n",
    "plt.xlabel('year')\n",
    "plt.ylabel('14C')\n",
    "plt.show()"
   ]
  },
  {
   "cell_type": "markdown",
   "metadata": {},
   "source": [
    "# Smooth data"
   ]
  },
  {
   "cell_type": "code",
   "execution_count": null,
   "metadata": {},
   "outputs": [],
   "source": [
    "c14_atm_data['year'] = np.round(c14_atm_data['year']*2)/2"
   ]
  },
  {
   "cell_type": "code",
   "execution_count": null,
   "metadata": {},
   "outputs": [],
   "source": [
    "c14_atm_data = c14_atm_data.groupby('year').mean().reset_index()"
   ]
  },
  {
   "cell_type": "code",
   "execution_count": null,
   "metadata": {},
   "outputs": [],
   "source": [
    "fig = plt.figure()\n",
    "plt.plot(c14_atm_data['year'], c14_atm_data['d14C'])\n",
    "plt.xlabel('year')\n",
    "plt.ylabel('14C')\n",
    "plt.show()"
   ]
  },
  {
   "cell_type": "markdown",
   "metadata": {},
   "source": [
    "# Extrapolate"
   ]
  },
  {
   "cell_type": "code",
   "execution_count": null,
   "metadata": {},
   "outputs": [],
   "source": [
    "for t in [1970, 2010]:\n",
    "    late_data = c14_atm_data.query('year > @t')\n",
    "    fig = plt.figure()\n",
    "    plt.plot(late_data['year'], late_data['d14C'])\n",
    "    plt.xlabel('year')\n",
    "    plt.ylabel('14C')\n",
    "    plt.semilogy()\n",
    "    plt.show()"
   ]
  },
  {
   "cell_type": "code",
   "execution_count": null,
   "metadata": {},
   "outputs": [],
   "source": [
    "late_data = c14_atm_data.query('year > 2010')\n",
    "fig = plt.figure()\n",
    "plt.plot(late_data['year'], late_data['d14C'])\n",
    "plt.xlabel('year')\n",
    "plt.ylabel('14C')\n",
    "#plt.semilogy()\n",
    "plt.show()"
   ]
  },
  {
   "cell_type": "code",
   "execution_count": null,
   "metadata": {},
   "outputs": [],
   "source": [
    "def f1(x, m, n):\n",
    "    return m*x + n\n",
    "\n",
    "def fit(f, p0=None):\n",
    "    p = sp.optimize.curve_fit(f, late_data['year'], late_data['d14C'], p0)[0]\n",
    "    return lambda x: f(x, *p)"
   ]
  },
  {
   "cell_type": "code",
   "execution_count": null,
   "metadata": {},
   "outputs": [],
   "source": [
    "late_data = c14_atm_data.query('year > 2010')\n",
    "fig = plt.figure()\n",
    "plt.plot(late_data['year'], late_data['d14C'])\n",
    "t = np.linspace(2010, 2020)\n",
    "plt.plot(t, fit(f1)(t), label='linear')\n",
    "# plt.plot(t, fit(f2, [1, 1, 2010])(t), label='exponential')\n",
    "plt.xlabel('year')\n",
    "plt.ylabel('14C')\n",
    "plt.legend()\n",
    "# plt.semilogy()\n",
    "plt.show()"
   ]
  },
  {
   "cell_type": "code",
   "execution_count": null,
   "metadata": {},
   "outputs": [],
   "source": [
    "c14_atm_data.tail()"
   ]
  },
  {
   "cell_type": "markdown",
   "metadata": {},
   "source": [
    "# Extrapolate and export"
   ]
  },
  {
   "cell_type": "code",
   "execution_count": null,
   "metadata": {},
   "outputs": [],
   "source": [
    "# c14_atm_data = pd.read_excel('../../data/14C_levin_data_until_2016_for_plotting.xlsx', names=['year', 'd14C'])\n",
    "\n",
    "tt = np.arange(c14_atm_data['year'].max() + 0.5, 2020.1, 0.5)\n",
    "cc = fit(f1)(tt)\n",
    "\n",
    "c14_atm_data_export = c14_atm_data.copy()\n",
    "j = c14_atm_data_export.index.max()\n",
    "for i in np.arange(0, len(tt)-0.5, 1).astype(int):\n",
    "    c14_atm_data_export.loc[j+i+1, 'year'] = tt[i]\n",
    "    c14_atm_data_export.loc[j+i+1, 'd14C'] = cc[i]\n",
    "    \n",
    "c14_atm_data_export['d14C'] /= 1000\n",
    "c14_atm_data_export = c14_atm_data_export.rename({'d14C': 'delta_14c'}, axis='columns')"
   ]
  },
  {
   "cell_type": "code",
   "execution_count": null,
   "metadata": {},
   "outputs": [],
   "source": [
    "fig = plt.figure()\n",
    "plt.plot(c14_atm_data_export['year'], c14_atm_data_export['delta_14c'], label='extrapolated')\n",
    "plt.plot(c14_atm_data['year'], c14_atm_data['d14C']/1000, label='measured')\n",
    "\n",
    "plt.xlabel('Calendar year')\n",
    "plt.ylabel('$\\Delta^{14}$C')\n",
    "\n",
    "plt.legend()\n",
    "\n",
    "# plt.savefig('plots/atm_14C_extrapolate.svg', bbox_inches='tight')\n",
    "\n",
    "plt.show()"
   ]
  },
  {
   "cell_type": "code",
   "execution_count": null,
   "metadata": {},
   "outputs": [],
   "source": [
    "fig = plt.figure()\n",
    "plt.plot(c14_atm_data_export['year'], c14_atm_data_export['delta_14c'], label='extrapolated')\n",
    "plt.plot(c14_atm_data['year'], c14_atm_data['d14C']/1000, label='measured')\n",
    "\n",
    "plt.xlabel('Calendar year')\n",
    "plt.ylabel('$\\Delta^{14}$C')\n",
    "\n",
    "plt.legend()\n",
    "plt.xlim(2010, None)\n",
    "plt.ylim(-0.1, 0.1)\n",
    "# plt.savefig('plots/atm_14C_extrapolate.svg', bbox_inches='tight')\n",
    "\n",
    "plt.show()"
   ]
  },
  {
   "cell_type": "code",
   "execution_count": null,
   "metadata": {},
   "outputs": [],
   "source": [
    "c14_atm_data_export.columns = ['#year', 'delta_14c']"
   ]
  },
  {
   "cell_type": "code",
   "execution_count": null,
   "metadata": {},
   "outputs": [],
   "source": [
    "c14_atm_data_export.to_csv('./c14atm.dat', index=False, sep=' ')"
   ]
  },
  {
   "cell_type": "code",
   "execution_count": null,
   "metadata": {},
   "outputs": [],
   "source": []
  }
 ],
 "metadata": {
  "kernelspec": {
   "display_name": "Python 3",
   "language": "python",
   "name": "python3"
  },
  "language_info": {
   "codemirror_mode": {
    "name": "ipython",
    "version": 3
   },
   "file_extension": ".py",
   "mimetype": "text/x-python",
   "name": "python",
   "nbconvert_exporter": "python",
   "pygments_lexer": "ipython3"
  },
  "toc": {
   "nav_menu": {},
   "number_sections": true,
   "sideBar": true,
   "skip_h1_title": false,
   "title_cell": "Table of Contents",
   "title_sidebar": "Contents",
   "toc_cell": true,
   "toc_position": {},
   "toc_section_display": true,
   "toc_window_display": false
  }
 },
 "nbformat": 4,
 "nbformat_minor": 4
}
